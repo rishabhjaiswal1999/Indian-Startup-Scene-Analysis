{
 "metadata": {
  "language_info": {
   "codemirror_mode": {
    "name": "ipython",
    "version": 3
   },
   "file_extension": ".py",
   "mimetype": "text/x-python",
   "name": "python",
   "nbconvert_exporter": "python",
   "pygments_lexer": "ipython3",
   "version": "3.7.3"
  },
  "orig_nbformat": 4,
  "kernelspec": {
   "name": "python3",
   "display_name": "Python 3.7.3 64-bit ('base': conda)"
  },
  "interpreter": {
   "hash": "2b9cd5c3ec4eb793e30b3fe22fb3034f3d8c9722bad10f4cedbbd7faa7e7f261"
  }
 },
 "nbformat": 4,
 "nbformat_minor": 2,
 "cells": [
  {
   "cell_type": "code",
   "execution_count": 2,
   "metadata": {},
   "outputs": [],
   "source": [
    "import pandas as pd"
   ]
  },
  {
   "cell_type": "code",
   "execution_count": 3,
   "metadata": {},
   "outputs": [],
   "source": [
    "df = pd.read_excel('datasets/tourism_india.xlsx', skiprows=range(1), skipfooter=13)"
   ]
  },
  {
   "cell_type": "code",
   "execution_count": 4,
   "metadata": {},
   "outputs": [
    {
     "output_type": "execute_result",
     "data": {
      "text/plain": [
       "   Period  Foreing Tourist Arrival  Percent of Share of India FTA   \\\n",
       "0    1951                  16829.0                             NaN   \n",
       "1    1952                      NaN                             NaN   \n",
       "2    1953                      NaN                             NaN   \n",
       "3    1954                      NaN                             NaN   \n",
       "4    1955                  33299.0                             NaN   \n",
       "\n",
       "   FEE(Foreign Exchange Earning from Tourism) (in Indian Rupees Million  \\\n",
       "0                                                NaN                      \n",
       "1                                                NaN                      \n",
       "2                                                NaN                      \n",
       "3                                                NaN                      \n",
       "4                                                NaN                      \n",
       "\n",
       "   Tourism Total Contribution to GDP (US$ Billion)  \\\n",
       "0                                              NaN   \n",
       "1                                              NaN   \n",
       "2                                              NaN   \n",
       "3                                              NaN   \n",
       "4                                              NaN   \n",
       "\n",
       "   Tourism contribution to GDP in Percent  \\\n",
       "0                                     NaN   \n",
       "1                                     NaN   \n",
       "2                                     NaN   \n",
       "3                                     NaN   \n",
       "4                                     NaN   \n",
       "\n",
       "   Direct Contribution to GDP (in US$Billion)  \\\n",
       "0                                         NaN   \n",
       "1                                         NaN   \n",
       "2                                         NaN   \n",
       "3                                         NaN   \n",
       "4                                         NaN   \n",
       "\n",
       "   Government spending on Tourism (In US$ Billion) Real Price  \\\n",
       "0                                                NaN            \n",
       "1                                                NaN            \n",
       "2                                                NaN            \n",
       "3                                                NaN            \n",
       "4                                                NaN            \n",
       "\n",
       "   Tourism contribution to Employment ('000 jobs)  \\\n",
       "0                                             NaN   \n",
       "1                                             NaN   \n",
       "2                                             NaN   \n",
       "3                                             NaN   \n",
       "4                                             NaN   \n",
       "\n",
       "   DOMESTIC TOURISM (in Million)  ...  Unnamed: 16  Unnamed: 17 Unnamed: 18  \\\n",
       "0                            NaN  ...          NaN          NaN         NaN   \n",
       "1                            NaN  ...          NaN          NaN         NaN   \n",
       "2                            NaN  ...          NaN          NaN         NaN   \n",
       "3                            NaN  ...          NaN          NaN         NaN   \n",
       "4                            NaN  ...          NaN          NaN         NaN   \n",
       "\n",
       "   Unnamed: 19  Unnamed: 20  Unnamed: 21  Unnamed: 22  Unnamed: 23  \\\n",
       "0          NaN          NaN          NaN          NaN          NaN   \n",
       "1          NaN          NaN          NaN          NaN          NaN   \n",
       "2          NaN          NaN          NaN          NaN          NaN   \n",
       "3          NaN          NaN          NaN          NaN          NaN   \n",
       "4          NaN          NaN          NaN          NaN          NaN   \n",
       "\n",
       "   Unnamed: 24  Unnamed: 25  \n",
       "0          NaN          NaN  \n",
       "1          NaN          NaN  \n",
       "2          NaN          NaN  \n",
       "3          NaN          NaN  \n",
       "4          NaN          NaN  \n",
       "\n",
       "[5 rows x 26 columns]"
      ],
      "text/html": "<div>\n<style scoped>\n    .dataframe tbody tr th:only-of-type {\n        vertical-align: middle;\n    }\n\n    .dataframe tbody tr th {\n        vertical-align: top;\n    }\n\n    .dataframe thead th {\n        text-align: right;\n    }\n</style>\n<table border=\"1\" class=\"dataframe\">\n  <thead>\n    <tr style=\"text-align: right;\">\n      <th></th>\n      <th>Period</th>\n      <th>Foreing Tourist Arrival</th>\n      <th>Percent of Share of India FTA</th>\n      <th>FEE(Foreign Exchange Earning from Tourism) (in Indian Rupees Million</th>\n      <th>Tourism Total Contribution to GDP (US$ Billion)</th>\n      <th>Tourism contribution to GDP in Percent</th>\n      <th>Direct Contribution to GDP (in US$Billion)</th>\n      <th>Government spending on Tourism (In US$ Billion) Real Price</th>\n      <th>Tourism contribution to Employment ('000 jobs)</th>\n      <th>DOMESTIC TOURISM (in Million)</th>\n      <th>...</th>\n      <th>Unnamed: 16</th>\n      <th>Unnamed: 17</th>\n      <th>Unnamed: 18</th>\n      <th>Unnamed: 19</th>\n      <th>Unnamed: 20</th>\n      <th>Unnamed: 21</th>\n      <th>Unnamed: 22</th>\n      <th>Unnamed: 23</th>\n      <th>Unnamed: 24</th>\n      <th>Unnamed: 25</th>\n    </tr>\n  </thead>\n  <tbody>\n    <tr>\n      <th>0</th>\n      <td>1951</td>\n      <td>16829.0</td>\n      <td>NaN</td>\n      <td>NaN</td>\n      <td>NaN</td>\n      <td>NaN</td>\n      <td>NaN</td>\n      <td>NaN</td>\n      <td>NaN</td>\n      <td>NaN</td>\n      <td>...</td>\n      <td>NaN</td>\n      <td>NaN</td>\n      <td>NaN</td>\n      <td>NaN</td>\n      <td>NaN</td>\n      <td>NaN</td>\n      <td>NaN</td>\n      <td>NaN</td>\n      <td>NaN</td>\n      <td>NaN</td>\n    </tr>\n    <tr>\n      <th>1</th>\n      <td>1952</td>\n      <td>NaN</td>\n      <td>NaN</td>\n      <td>NaN</td>\n      <td>NaN</td>\n      <td>NaN</td>\n      <td>NaN</td>\n      <td>NaN</td>\n      <td>NaN</td>\n      <td>NaN</td>\n      <td>...</td>\n      <td>NaN</td>\n      <td>NaN</td>\n      <td>NaN</td>\n      <td>NaN</td>\n      <td>NaN</td>\n      <td>NaN</td>\n      <td>NaN</td>\n      <td>NaN</td>\n      <td>NaN</td>\n      <td>NaN</td>\n    </tr>\n    <tr>\n      <th>2</th>\n      <td>1953</td>\n      <td>NaN</td>\n      <td>NaN</td>\n      <td>NaN</td>\n      <td>NaN</td>\n      <td>NaN</td>\n      <td>NaN</td>\n      <td>NaN</td>\n      <td>NaN</td>\n      <td>NaN</td>\n      <td>...</td>\n      <td>NaN</td>\n      <td>NaN</td>\n      <td>NaN</td>\n      <td>NaN</td>\n      <td>NaN</td>\n      <td>NaN</td>\n      <td>NaN</td>\n      <td>NaN</td>\n      <td>NaN</td>\n      <td>NaN</td>\n    </tr>\n    <tr>\n      <th>3</th>\n      <td>1954</td>\n      <td>NaN</td>\n      <td>NaN</td>\n      <td>NaN</td>\n      <td>NaN</td>\n      <td>NaN</td>\n      <td>NaN</td>\n      <td>NaN</td>\n      <td>NaN</td>\n      <td>NaN</td>\n      <td>...</td>\n      <td>NaN</td>\n      <td>NaN</td>\n      <td>NaN</td>\n      <td>NaN</td>\n      <td>NaN</td>\n      <td>NaN</td>\n      <td>NaN</td>\n      <td>NaN</td>\n      <td>NaN</td>\n      <td>NaN</td>\n    </tr>\n    <tr>\n      <th>4</th>\n      <td>1955</td>\n      <td>33299.0</td>\n      <td>NaN</td>\n      <td>NaN</td>\n      <td>NaN</td>\n      <td>NaN</td>\n      <td>NaN</td>\n      <td>NaN</td>\n      <td>NaN</td>\n      <td>NaN</td>\n      <td>...</td>\n      <td>NaN</td>\n      <td>NaN</td>\n      <td>NaN</td>\n      <td>NaN</td>\n      <td>NaN</td>\n      <td>NaN</td>\n      <td>NaN</td>\n      <td>NaN</td>\n      <td>NaN</td>\n      <td>NaN</td>\n    </tr>\n  </tbody>\n</table>\n<p>5 rows × 26 columns</p>\n</div>"
     },
     "metadata": {},
     "execution_count": 4
    }
   ],
   "source": [
    "df.head()"
   ]
  },
  {
   "cell_type": "code",
   "execution_count": 5,
   "metadata": {},
   "outputs": [],
   "source": [
    "df.drop(columns=['Plan Period', 'Unnamed: 13', 'Unnamed: 14', 'Unnamed: 15',\n",
    "       'Unnamed: 16', 'Unnamed: 17', 'Unnamed: 18', 'Unnamed: 19',\n",
    "       'Unnamed: 20', 'Unnamed: 21', 'Unnamed: 22', 'Unnamed: 23',\n",
    "       'Unnamed: 24', 'Unnamed: 25'], inplace=True, axis=1)"
   ]
  },
  {
   "cell_type": "code",
   "execution_count": 6,
   "metadata": {},
   "outputs": [
    {
     "output_type": "execute_result",
     "data": {
      "text/plain": [
       "    Period  Foreing Tourist Arrival  Percent of Share of India FTA   \\\n",
       "57    2008                5282603.0                            0.58   \n",
       "58    2009                5167699.0                            0.59   \n",
       "59    2010                5775692.0                            0.61   \n",
       "60    2011                6309222.0                            0.63   \n",
       "61    2012                6577745.0                            0.63   \n",
       "62    2013                6967601.0                            0.64   \n",
       "63    2014                7679099.0                            1.15   \n",
       "64    2015                8027133.0                            1.12   \n",
       "65    2016                8804411.0                            1.18   \n",
       "66    2017               10177000.0                             NaN   \n",
       "\n",
       "    FEE(Foreign Exchange Earning from Tourism) (in Indian Rupees Million  \\\n",
       "57                                           512940.0                      \n",
       "58                                           537000.0                      \n",
       "59                                           648890.0                      \n",
       "60                                           775910.0                      \n",
       "61                                           944870.0                      \n",
       "62                                          1076710.0                      \n",
       "63                                          1233200.0                      \n",
       "64                                          1351930.0                      \n",
       "65                                          1541460.0                      \n",
       "66                                          1803790.0                      \n",
       "\n",
       "    Tourism Total Contribution to GDP (US$ Billion)  \\\n",
       "57                                            128.3   \n",
       "58                                            121.2   \n",
       "59                                            149.8   \n",
       "60                                            168.0   \n",
       "61                                            167.2   \n",
       "62                                            171.5   \n",
       "63                                            185.3   \n",
       "64                                            194.7   \n",
       "65                                            208.9   \n",
       "66                                              NaN   \n",
       "\n",
       "    Tourism contribution to GDP in Percent  \\\n",
       "57                                    10.2   \n",
       "58                                     9.8   \n",
       "59                                     9.4   \n",
       "60                                     9.3   \n",
       "61                                     9.3   \n",
       "62                                     9.2   \n",
       "63                                     9.3   \n",
       "64                                     9.4   \n",
       "65                                     9.6   \n",
       "66                                     NaN   \n",
       "\n",
       "    Direct Contribution to GDP (in US$Billion)  \\\n",
       "57                                       27.05   \n",
       "58                                       27.48   \n",
       "59                                       29.40   \n",
       "60                                       31.53   \n",
       "61                                       33.63   \n",
       "62                                       35.54   \n",
       "63                                       38.50   \n",
       "64                                       41.58   \n",
       "65                                       44.55   \n",
       "66                                         NaN   \n",
       "\n",
       "    Government spending on Tourism (In US$ Billion) Real Price  \\\n",
       "57                                           0.163043            \n",
       "58                                           0.190448            \n",
       "59                                           0.205532            \n",
       "60                                           0.221411            \n",
       "61                                           0.236503            \n",
       "62                                           0.262646            \n",
       "63                                           0.286256            \n",
       "64                                           0.293175            \n",
       "65                                           0.328453            \n",
       "66                                                NaN            \n",
       "\n",
       "    Tourism contribution to Employment ('000 jobs)  \\\n",
       "57                                         23676.5   \n",
       "58                                         22495.9   \n",
       "59                                         21717.9   \n",
       "60                                         22045.7   \n",
       "61                                         22202.6   \n",
       "62                                         22471.2   \n",
       "63                                         23022.3   \n",
       "64                                         23454.4   \n",
       "65                                         24197.4   \n",
       "66                                             NaN   \n",
       "\n",
       "    DOMESTIC TOURISM (in Million)  Visa on Arrival  FEE (US$ Million)  \n",
       "57                         563.03              NaN             11.832  \n",
       "58                         668.80              NaN             11.136  \n",
       "59                         747.70              NaN             14.193  \n",
       "60                         863.53           6594.0             16.564  \n",
       "61                        1045.05          12761.0             17.737  \n",
       "62                        1142.53          16083.0             18.445  \n",
       "63                        1282.80          20294.0             20.236  \n",
       "64                        1431.97          39048.0             21.071  \n",
       "65                        1613.55         445300.0             23.150  \n",
       "66                            NaN        1079696.0                NaN  "
      ],
      "text/html": "<div>\n<style scoped>\n    .dataframe tbody tr th:only-of-type {\n        vertical-align: middle;\n    }\n\n    .dataframe tbody tr th {\n        vertical-align: top;\n    }\n\n    .dataframe thead th {\n        text-align: right;\n    }\n</style>\n<table border=\"1\" class=\"dataframe\">\n  <thead>\n    <tr style=\"text-align: right;\">\n      <th></th>\n      <th>Period</th>\n      <th>Foreing Tourist Arrival</th>\n      <th>Percent of Share of India FTA</th>\n      <th>FEE(Foreign Exchange Earning from Tourism) (in Indian Rupees Million</th>\n      <th>Tourism Total Contribution to GDP (US$ Billion)</th>\n      <th>Tourism contribution to GDP in Percent</th>\n      <th>Direct Contribution to GDP (in US$Billion)</th>\n      <th>Government spending on Tourism (In US$ Billion) Real Price</th>\n      <th>Tourism contribution to Employment ('000 jobs)</th>\n      <th>DOMESTIC TOURISM (in Million)</th>\n      <th>Visa on Arrival</th>\n      <th>FEE (US$ Million)</th>\n    </tr>\n  </thead>\n  <tbody>\n    <tr>\n      <th>57</th>\n      <td>2008</td>\n      <td>5282603.0</td>\n      <td>0.58</td>\n      <td>512940.0</td>\n      <td>128.3</td>\n      <td>10.2</td>\n      <td>27.05</td>\n      <td>0.163043</td>\n      <td>23676.5</td>\n      <td>563.03</td>\n      <td>NaN</td>\n      <td>11.832</td>\n    </tr>\n    <tr>\n      <th>58</th>\n      <td>2009</td>\n      <td>5167699.0</td>\n      <td>0.59</td>\n      <td>537000.0</td>\n      <td>121.2</td>\n      <td>9.8</td>\n      <td>27.48</td>\n      <td>0.190448</td>\n      <td>22495.9</td>\n      <td>668.80</td>\n      <td>NaN</td>\n      <td>11.136</td>\n    </tr>\n    <tr>\n      <th>59</th>\n      <td>2010</td>\n      <td>5775692.0</td>\n      <td>0.61</td>\n      <td>648890.0</td>\n      <td>149.8</td>\n      <td>9.4</td>\n      <td>29.40</td>\n      <td>0.205532</td>\n      <td>21717.9</td>\n      <td>747.70</td>\n      <td>NaN</td>\n      <td>14.193</td>\n    </tr>\n    <tr>\n      <th>60</th>\n      <td>2011</td>\n      <td>6309222.0</td>\n      <td>0.63</td>\n      <td>775910.0</td>\n      <td>168.0</td>\n      <td>9.3</td>\n      <td>31.53</td>\n      <td>0.221411</td>\n      <td>22045.7</td>\n      <td>863.53</td>\n      <td>6594.0</td>\n      <td>16.564</td>\n    </tr>\n    <tr>\n      <th>61</th>\n      <td>2012</td>\n      <td>6577745.0</td>\n      <td>0.63</td>\n      <td>944870.0</td>\n      <td>167.2</td>\n      <td>9.3</td>\n      <td>33.63</td>\n      <td>0.236503</td>\n      <td>22202.6</td>\n      <td>1045.05</td>\n      <td>12761.0</td>\n      <td>17.737</td>\n    </tr>\n    <tr>\n      <th>62</th>\n      <td>2013</td>\n      <td>6967601.0</td>\n      <td>0.64</td>\n      <td>1076710.0</td>\n      <td>171.5</td>\n      <td>9.2</td>\n      <td>35.54</td>\n      <td>0.262646</td>\n      <td>22471.2</td>\n      <td>1142.53</td>\n      <td>16083.0</td>\n      <td>18.445</td>\n    </tr>\n    <tr>\n      <th>63</th>\n      <td>2014</td>\n      <td>7679099.0</td>\n      <td>1.15</td>\n      <td>1233200.0</td>\n      <td>185.3</td>\n      <td>9.3</td>\n      <td>38.50</td>\n      <td>0.286256</td>\n      <td>23022.3</td>\n      <td>1282.80</td>\n      <td>20294.0</td>\n      <td>20.236</td>\n    </tr>\n    <tr>\n      <th>64</th>\n      <td>2015</td>\n      <td>8027133.0</td>\n      <td>1.12</td>\n      <td>1351930.0</td>\n      <td>194.7</td>\n      <td>9.4</td>\n      <td>41.58</td>\n      <td>0.293175</td>\n      <td>23454.4</td>\n      <td>1431.97</td>\n      <td>39048.0</td>\n      <td>21.071</td>\n    </tr>\n    <tr>\n      <th>65</th>\n      <td>2016</td>\n      <td>8804411.0</td>\n      <td>1.18</td>\n      <td>1541460.0</td>\n      <td>208.9</td>\n      <td>9.6</td>\n      <td>44.55</td>\n      <td>0.328453</td>\n      <td>24197.4</td>\n      <td>1613.55</td>\n      <td>445300.0</td>\n      <td>23.150</td>\n    </tr>\n    <tr>\n      <th>66</th>\n      <td>2017</td>\n      <td>10177000.0</td>\n      <td>NaN</td>\n      <td>1803790.0</td>\n      <td>NaN</td>\n      <td>NaN</td>\n      <td>NaN</td>\n      <td>NaN</td>\n      <td>NaN</td>\n      <td>NaN</td>\n      <td>1079696.0</td>\n      <td>NaN</td>\n    </tr>\n  </tbody>\n</table>\n</div>"
     },
     "metadata": {},
     "execution_count": 6
    }
   ],
   "source": [
    "df.tail(10)"
   ]
  },
  {
   "cell_type": "code",
   "execution_count": 9,
   "metadata": {},
   "outputs": [
    {
     "output_type": "execute_result",
     "data": {
      "text/plain": [
       "Period\n",
       "1951       16829.0\n",
       "1952           NaN\n",
       "1953           NaN\n",
       "1954           NaN\n",
       "1955       33299.0\n",
       "           ...    \n",
       "2013     6967601.0\n",
       "2014     7679099.0\n",
       "2015     8027133.0\n",
       "2016     8804411.0\n",
       "2017    10177000.0\n",
       "Name: Foreing Tourist Arrival, Length: 67, dtype: float64"
      ]
     },
     "metadata": {},
     "execution_count": 9
    }
   ],
   "source": [
    "df.set_index('Period')['Foreing Tourist Arrival']"
   ]
  },
  {
   "cell_type": "code",
   "execution_count": 8,
   "metadata": {},
   "outputs": [
    {
     "output_type": "execute_result",
     "data": {
      "text/plain": [
       "Index(['Period', 'Foreing Tourist Arrival', 'Percent of Share of India FTA ',\n",
       "       'FEE(Foreign Exchange Earning from Tourism) (in Indian Rupees Million',\n",
       "       'Tourism Total Contribution to GDP (US$ Billion)',\n",
       "       'Tourism contribution to GDP in Percent',\n",
       "       'Direct Contribution to GDP (in US$Billion)',\n",
       "       'Government spending on Tourism (In US$ Billion) Real Price',\n",
       "       'Tourism contribution to Employment ('000 jobs)',\n",
       "       'DOMESTIC TOURISM (in Million)', 'Visa on Arrival',\n",
       "       'FEE (US$ Million)'],\n",
       "      dtype='object')"
      ]
     },
     "metadata": {},
     "execution_count": 8
    }
   ],
   "source": [
    "df.columns"
   ]
  },
  {
   "cell_type": "code",
   "execution_count": null,
   "metadata": {},
   "outputs": [],
   "source": []
  }
 ]
}