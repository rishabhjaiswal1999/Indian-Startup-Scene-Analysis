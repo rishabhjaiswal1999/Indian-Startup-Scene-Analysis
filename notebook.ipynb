{
 "metadata": {
  "language_info": {
   "codemirror_mode": {
    "name": "ipython",
    "version": 3
   },
   "file_extension": ".py",
   "mimetype": "text/x-python",
   "name": "python",
   "nbconvert_exporter": "python",
   "pygments_lexer": "ipython3",
   "version": "3.7.3"
  },
  "orig_nbformat": 2,
  "kernelspec": {
   "name": "python373jvsc74a57bd02b9cd5c3ec4eb793e30b3fe22fb3034f3d8c9722bad10f4cedbbd7faa7e7f261",
   "display_name": "Python 3.7.3 64-bit ('base': conda)"
  }
 },
 "nbformat": 4,
 "nbformat_minor": 2,
 "cells": [
  {
   "cell_type": "code",
   "execution_count": 3,
   "metadata": {},
   "outputs": [],
   "source": [
    "import pandas as pd\n",
    "import matplotlib.pyplot as plt"
   ]
  },
  {
   "cell_type": "code",
   "execution_count": 15,
   "metadata": {},
   "outputs": [],
   "source": [
    "df = pd.read_csv('datasets/startup.csv')"
   ]
  },
  {
   "cell_type": "code",
   "execution_count": 16,
   "metadata": {},
   "outputs": [
    {
     "output_type": "execute_result",
     "data": {
      "text/plain": [
       "   Sr No Date dd/mm/yyyy                  Startup Name    Industry Vertical  \\\n",
       "0      1      09/01/2020                        BYJU’S               E-Tech   \n",
       "1      2      13/01/2020                        Shuttl       Transportation   \n",
       "2      3      09/01/2020                     Mamaearth           E-commerce   \n",
       "3      4      02/01/2020  https://www.wealthbucket.in/              FinTech   \n",
       "4      5      02/01/2020                        Fashor  Fashion and Apparel   \n",
       "\n",
       "                             SubVertical City  Location  \\\n",
       "0                             E-learning      Bengaluru   \n",
       "1              App based shuttle service        Gurgaon   \n",
       "2  Retailer of baby and toddler products      Bengaluru   \n",
       "3                      Online Investment      New Delhi   \n",
       "4            Embroiled Clothes For Women         Mumbai   \n",
       "\n",
       "              Investors Name       InvestmentnType Amount in USD Remarks  \n",
       "0    Tiger Global Management  Private Equity Round  20,00,00,000     NaN  \n",
       "1  Susquehanna Growth Equity              Series C     80,48,394     NaN  \n",
       "2      Sequoia Capital India              Series B   1,83,58,860     NaN  \n",
       "3             Vinod Khatumal          Pre-series A     30,00,000     NaN  \n",
       "4    Sprout Venture Partners            Seed Round     18,00,000     NaN  "
      ],
      "text/html": "<div>\n<style scoped>\n    .dataframe tbody tr th:only-of-type {\n        vertical-align: middle;\n    }\n\n    .dataframe tbody tr th {\n        vertical-align: top;\n    }\n\n    .dataframe thead th {\n        text-align: right;\n    }\n</style>\n<table border=\"1\" class=\"dataframe\">\n  <thead>\n    <tr style=\"text-align: right;\">\n      <th></th>\n      <th>Sr No</th>\n      <th>Date dd/mm/yyyy</th>\n      <th>Startup Name</th>\n      <th>Industry Vertical</th>\n      <th>SubVertical</th>\n      <th>City  Location</th>\n      <th>Investors Name</th>\n      <th>InvestmentnType</th>\n      <th>Amount in USD</th>\n      <th>Remarks</th>\n    </tr>\n  </thead>\n  <tbody>\n    <tr>\n      <th>0</th>\n      <td>1</td>\n      <td>09/01/2020</td>\n      <td>BYJU’S</td>\n      <td>E-Tech</td>\n      <td>E-learning</td>\n      <td>Bengaluru</td>\n      <td>Tiger Global Management</td>\n      <td>Private Equity Round</td>\n      <td>20,00,00,000</td>\n      <td>NaN</td>\n    </tr>\n    <tr>\n      <th>1</th>\n      <td>2</td>\n      <td>13/01/2020</td>\n      <td>Shuttl</td>\n      <td>Transportation</td>\n      <td>App based shuttle service</td>\n      <td>Gurgaon</td>\n      <td>Susquehanna Growth Equity</td>\n      <td>Series C</td>\n      <td>80,48,394</td>\n      <td>NaN</td>\n    </tr>\n    <tr>\n      <th>2</th>\n      <td>3</td>\n      <td>09/01/2020</td>\n      <td>Mamaearth</td>\n      <td>E-commerce</td>\n      <td>Retailer of baby and toddler products</td>\n      <td>Bengaluru</td>\n      <td>Sequoia Capital India</td>\n      <td>Series B</td>\n      <td>1,83,58,860</td>\n      <td>NaN</td>\n    </tr>\n    <tr>\n      <th>3</th>\n      <td>4</td>\n      <td>02/01/2020</td>\n      <td>https://www.wealthbucket.in/</td>\n      <td>FinTech</td>\n      <td>Online Investment</td>\n      <td>New Delhi</td>\n      <td>Vinod Khatumal</td>\n      <td>Pre-series A</td>\n      <td>30,00,000</td>\n      <td>NaN</td>\n    </tr>\n    <tr>\n      <th>4</th>\n      <td>5</td>\n      <td>02/01/2020</td>\n      <td>Fashor</td>\n      <td>Fashion and Apparel</td>\n      <td>Embroiled Clothes For Women</td>\n      <td>Mumbai</td>\n      <td>Sprout Venture Partners</td>\n      <td>Seed Round</td>\n      <td>18,00,000</td>\n      <td>NaN</td>\n    </tr>\n  </tbody>\n</table>\n</div>"
     },
     "metadata": {},
     "execution_count": 16
    }
   ],
   "source": [
    "df.head()"
   ]
  },
  {
   "cell_type": "code",
   "execution_count": 17,
   "metadata": {},
   "outputs": [],
   "source": [
    "cols = df.columns\n",
    "df.rename(columns = { cols[1] : 'Date', 'Startup Name' : 'Name', cols[-2] : 'Amount' }, inplace=True)\n",
    "df.drop(columns=[cols[0], cols[-1]], inplace=True)"
   ]
  },
  {
   "cell_type": "code",
   "execution_count": 18,
   "metadata": {},
   "outputs": [],
   "source": [
    "df.set_index('Date', inplace=True)"
   ]
  },
  {
   "cell_type": "code",
   "execution_count": 19,
   "metadata": {},
   "outputs": [
    {
     "output_type": "execute_result",
     "data": {
      "text/plain": [
       "                                    Name    Industry Vertical  \\\n",
       "Date                                                            \n",
       "09/01/2020                        BYJU’S               E-Tech   \n",
       "13/01/2020                        Shuttl       Transportation   \n",
       "09/01/2020                     Mamaearth           E-commerce   \n",
       "02/01/2020  https://www.wealthbucket.in/              FinTech   \n",
       "02/01/2020                        Fashor  Fashion and Apparel   \n",
       "\n",
       "                                      SubVertical City  Location  \\\n",
       "Date                                                               \n",
       "09/01/2020                             E-learning      Bengaluru   \n",
       "13/01/2020              App based shuttle service        Gurgaon   \n",
       "09/01/2020  Retailer of baby and toddler products      Bengaluru   \n",
       "02/01/2020                      Online Investment      New Delhi   \n",
       "02/01/2020            Embroiled Clothes For Women         Mumbai   \n",
       "\n",
       "                       Investors Name       InvestmentnType        Amount  \n",
       "Date                                                                       \n",
       "09/01/2020    Tiger Global Management  Private Equity Round  20,00,00,000  \n",
       "13/01/2020  Susquehanna Growth Equity              Series C     80,48,394  \n",
       "09/01/2020      Sequoia Capital India              Series B   1,83,58,860  \n",
       "02/01/2020             Vinod Khatumal          Pre-series A     30,00,000  \n",
       "02/01/2020    Sprout Venture Partners            Seed Round     18,00,000  "
      ],
      "text/html": "<div>\n<style scoped>\n    .dataframe tbody tr th:only-of-type {\n        vertical-align: middle;\n    }\n\n    .dataframe tbody tr th {\n        vertical-align: top;\n    }\n\n    .dataframe thead th {\n        text-align: right;\n    }\n</style>\n<table border=\"1\" class=\"dataframe\">\n  <thead>\n    <tr style=\"text-align: right;\">\n      <th></th>\n      <th>Name</th>\n      <th>Industry Vertical</th>\n      <th>SubVertical</th>\n      <th>City  Location</th>\n      <th>Investors Name</th>\n      <th>InvestmentnType</th>\n      <th>Amount</th>\n    </tr>\n    <tr>\n      <th>Date</th>\n      <th></th>\n      <th></th>\n      <th></th>\n      <th></th>\n      <th></th>\n      <th></th>\n      <th></th>\n    </tr>\n  </thead>\n  <tbody>\n    <tr>\n      <th>09/01/2020</th>\n      <td>BYJU’S</td>\n      <td>E-Tech</td>\n      <td>E-learning</td>\n      <td>Bengaluru</td>\n      <td>Tiger Global Management</td>\n      <td>Private Equity Round</td>\n      <td>20,00,00,000</td>\n    </tr>\n    <tr>\n      <th>13/01/2020</th>\n      <td>Shuttl</td>\n      <td>Transportation</td>\n      <td>App based shuttle service</td>\n      <td>Gurgaon</td>\n      <td>Susquehanna Growth Equity</td>\n      <td>Series C</td>\n      <td>80,48,394</td>\n    </tr>\n    <tr>\n      <th>09/01/2020</th>\n      <td>Mamaearth</td>\n      <td>E-commerce</td>\n      <td>Retailer of baby and toddler products</td>\n      <td>Bengaluru</td>\n      <td>Sequoia Capital India</td>\n      <td>Series B</td>\n      <td>1,83,58,860</td>\n    </tr>\n    <tr>\n      <th>02/01/2020</th>\n      <td>https://www.wealthbucket.in/</td>\n      <td>FinTech</td>\n      <td>Online Investment</td>\n      <td>New Delhi</td>\n      <td>Vinod Khatumal</td>\n      <td>Pre-series A</td>\n      <td>30,00,000</td>\n    </tr>\n    <tr>\n      <th>02/01/2020</th>\n      <td>Fashor</td>\n      <td>Fashion and Apparel</td>\n      <td>Embroiled Clothes For Women</td>\n      <td>Mumbai</td>\n      <td>Sprout Venture Partners</td>\n      <td>Seed Round</td>\n      <td>18,00,000</td>\n    </tr>\n  </tbody>\n</table>\n</div>"
     },
     "metadata": {},
     "execution_count": 19
    }
   ],
   "source": [
    "df.head()"
   ]
  },
  {
   "cell_type": "code",
   "execution_count": 9,
   "metadata": {},
   "outputs": [
    {
     "output_type": "stream",
     "name": "stdout",
     "text": [
      "<class 'pandas.core.frame.DataFrame'>\nIndex: 3044 entries, 09/01/2020 to 31/01/2015\nData columns (total 7 columns):\n #   Column             Non-Null Count  Dtype \n---  ------             --------------  ----- \n 0   Name               3044 non-null   object\n 1   Industry Vertical  2873 non-null   object\n 2   SubVertical        2108 non-null   object\n 3   City  Location     2864 non-null   object\n 4   Investors Name     3020 non-null   object\n 5   InvestmentnType    3040 non-null   object\n 6   Amount in USD      2084 non-null   object\ndtypes: object(7)\nmemory usage: 270.2+ KB\n"
     ]
    }
   ],
   "source": [
    "df.info()"
   ]
  },
  {
   "cell_type": "code",
   "execution_count": 10,
   "metadata": {},
   "outputs": [
    {
     "output_type": "execute_result",
     "data": {
      "text/plain": [
       "Name                   0\n",
       "Industry Vertical    171\n",
       "SubVertical          936\n",
       "City  Location       180\n",
       "Investors Name        24\n",
       "InvestmentnType        4\n",
       "Amount in USD        960\n",
       "dtype: int64"
      ]
     },
     "metadata": {},
     "execution_count": 10
    }
   ],
   "source": [
    "df.isna().sum()"
   ]
  },
  {
   "cell_type": "code",
   "execution_count": 59,
   "metadata": {},
   "outputs": [],
   "source": [
    "df['Amount'].fillna('0', inplace=True)"
   ]
  },
  {
   "cell_type": "code",
   "execution_count": 73,
   "metadata": {},
   "outputs": [],
   "source": [
    "df['Amount'] = df['Amount'].str.replace(',', '')\n",
    "df['Amount'] = df['Amount'].str.strip('+')"
   ]
  },
  {
   "cell_type": "code",
   "execution_count": 64,
   "metadata": {},
   "outputs": [],
   "source": [
    "toremove = df.loc[df['Amount'].str.contains('a', na=True)]"
   ]
  },
  {
   "cell_type": "code",
   "execution_count": 66,
   "metadata": {},
   "outputs": [],
   "source": [
    "df.drop(toremove.index, inplace=True)"
   ]
  },
  {
   "cell_type": "code",
   "execution_count": 67,
   "metadata": {},
   "outputs": [],
   "source": [
    "df['Amount'].replace(['undisclosed'],'0', inplace=True)\n",
    "df['Amount'].replace(['unknown'],'0', inplace=True)\n",
    "df['Amount'].replace(['Undisclosed'],'0', inplace=True)"
   ]
  },
  {
   "cell_type": "code",
   "execution_count": 80,
   "metadata": {},
   "outputs": [],
   "source": [
    "df['Amount'] = df['Amount'].astype('float64')"
   ]
  },
  {
   "cell_type": "code",
   "execution_count": 81,
   "metadata": {},
   "outputs": [
    {
     "output_type": "stream",
     "name": "stdout",
     "text": [
      "<class 'pandas.core.frame.DataFrame'>\nIndex: 3028 entries, 09/01/2020 to 31/01/2015\nData columns (total 7 columns):\n #   Column             Non-Null Count  Dtype  \n---  ------             --------------  -----  \n 0   Name               3028 non-null   object \n 1   Industry Vertical  2857 non-null   object \n 2   SubVertical        2108 non-null   object \n 3   City  Location     2848 non-null   object \n 4   Investors Name     3004 non-null   object \n 5   InvestmentnType    3024 non-null   object \n 6   Amount             3028 non-null   float64\ndtypes: float64(1), object(6)\nmemory usage: 269.2+ KB\n"
     ]
    }
   ],
   "source": [
    "df.info()"
   ]
  },
  {
   "cell_type": "code",
   "execution_count": 85,
   "metadata": {},
   "outputs": [
    {
     "output_type": "execute_result",
     "data": {
      "text/plain": [
       "                                Name                   Industry Vertical  \\\n",
       "Date                                                                       \n",
       "27/08/2019          Rapido Bike Taxi                      Transportation   \n",
       "11/08/2017                  Flipkart                           eCommerce   \n",
       "18/05/2017                     Paytm                           ECommerce   \n",
       "21/03/2017                  Flipkart                           eCommerce   \n",
       "25/11/2019                     Paytm                             FinTech   \n",
       "28/07/2015              Flipkart.com                  Online Marketplace   \n",
       "29/09/2015                     Paytm    E-Commerce & M-Commerce platform   \n",
       "30/08/2018                True North                             Finance   \n",
       "02/10/2019                     Udaan                                 B2B   \n",
       "01/08/2015                  Snapdeal               Ecommerce Marketplace   \n",
       "18/11/2015                       Ola  Car Aggregator & Retail Mobile App   \n",
       "04/09/2019                     GOQii                 Health and Wellness   \n",
       "08/04/2015                   Olacabs                      Cab Aggregator   \n",
       "01/03/2017                       Ola                   Consumer Internet   \n",
       "19/11/2018       Automation Anywhere                          Automation   \n",
       "01/02/2018                 BigBasket                   Consumer Internet   \n",
       "15/11/2019           Vogo Automotive            Last Mile Transportation   \n",
       "27/11/2017                 Edelweiss                             Finance   \n",
       "14/04/2017                  Ola Cabs                   Consumer Internet   \n",
       "24/04/2017                 Oyo Rooms                   Consumer Internet   \n",
       "07/09/2017                 OYO Rooms                   Consumer Internet   \n",
       "20/12/2019              Lenskart.com                          E-Commerce   \n",
       "08/02/2019                   Zilingo                           Ecommerce   \n",
       "14/09/2015                  Ola Cabs               Cab rental Mobile app   \n",
       "03/09/2018                     Udaan                        B2B Platform   \n",
       "19/11/2019         Digital Mall Asia                          E-Commerce   \n",
       "15/02/2016                  Snapdeal                           eCommerce   \n",
       "03/03/2017         Paytm Marketplace                           ECommerce   \n",
       "21/11/2017              Epiq Capital                             Finance   \n",
       "19/11/2019  Furtados School of Music                           Education   \n",
       "25/06/2018              PolicyBazaar                   Consumer Internet   \n",
       "01/02/2018                    Zomato                  Food and Beverages   \n",
       "09/01/2020                    BYJU’S                              E-Tech   \n",
       "07/01/2016                MakeMyTrip                   Consumer Internet   \n",
       "16/08/2016                      Hike                   Consumer Internet   \n",
       "05/09/2018                     Nykaa                   Consumer Internet   \n",
       "22/03/2016                 BigBasket                           eCommerce   \n",
       "01/05/2019                 BlackBuck                           Transport   \n",
       "10/07/2019                \"BYJU\\\\'S\"                              EdTech   \n",
       "07/04/2015                     Quikr                  Online Classifieds   \n",
       "\n",
       "                                                  SubVertical  \\\n",
       "Date                                                            \n",
       "27/08/2019                                          Bike Taxi   \n",
       "11/08/2017                                 Online Marketplace   \n",
       "18/05/2017                 Mobile Wallet & ECommerce platform   \n",
       "21/03/2017                              ECommerce Marketplace   \n",
       "25/11/2019                                      Mobile Wallet   \n",
       "28/07/2015                                                NaN   \n",
       "29/09/2015                                                NaN   \n",
       "30/08/2018                                Private Equity Firm   \n",
       "02/10/2019                               Business development   \n",
       "01/08/2015                                                NaN   \n",
       "18/11/2015                                                NaN   \n",
       "04/09/2019                             Wearable Fitness Bands   \n",
       "08/04/2015                                                NaN   \n",
       "01/03/2017                           App based cab aggregator   \n",
       "19/11/2018                                           Robotics   \n",
       "01/02/2018                        Online Grocery & Food Store   \n",
       "15/11/2019                                Scooter sharing app   \n",
       "27/11/2017                              Diversified Financial   \n",
       "14/04/2017                                 Cab Aggregator App   \n",
       "24/04/2017                   Branded Budget Hotels Aggregator   \n",
       "07/09/2017                  Branded budget hotels marketplace   \n",
       "20/12/2019                     Online Eyewear Shopping Portal   \n",
       "08/02/2019                                  Fashion & Apparel   \n",
       "14/09/2015                                                NaN   \n",
       "03/09/2018                             Logistics and Shipping   \n",
       "19/11/2019                        Virtual e-commerce platform   \n",
       "15/02/2016                      Horizontal Online Marketplace   \n",
       "03/03/2017                              ECommerce Marketplace   \n",
       "21/11/2017                           Tech based investor firm   \n",
       "19/11/2019                                    Music Education   \n",
       "25/06/2018                  Online Insurance Selling Platform   \n",
       "01/02/2018             Food Ordering and Restaurant Discovery   \n",
       "09/01/2020                                         E-learning   \n",
       "07/01/2016               Online Travel/Hotel Booking platform   \n",
       "16/08/2016                               Mobile Messaging App   \n",
       "05/09/2018  Online Marketplace For Multi-brand Beauty Cosm...   \n",
       "22/03/2016                                Online Grocery Shop   \n",
       "01/05/2019                                          Logistics   \n",
       "10/07/2019                                          Education   \n",
       "07/04/2015                                                NaN   \n",
       "\n",
       "             City  Location  \\\n",
       "Date                          \n",
       "27/08/2019        Bengaluru   \n",
       "11/08/2017        Bangalore   \n",
       "18/05/2017        Bangalore   \n",
       "21/03/2017        Bangalore   \n",
       "25/11/2019            Noida   \n",
       "28/07/2015        Bangalore   \n",
       "29/09/2015        New Delhi   \n",
       "30/08/2018           Mumbai   \n",
       "02/10/2019        Bengaluru   \n",
       "01/08/2015        New Delhi   \n",
       "18/11/2015        Bangalore   \n",
       "04/09/2019       Menlo Park   \n",
       "08/04/2015        Bangalore   \n",
       "01/03/2017        Bangalore   \n",
       "19/11/2018       California   \n",
       "01/02/2018        Bengaluru   \n",
       "15/11/2019       Kormangala   \n",
       "27/11/2017           Mumbai   \n",
       "14/04/2017        Bangalore   \n",
       "24/04/2017          Gurgaon   \n",
       "07/09/2017          Gurgaon   \n",
       "20/12/2019        Faridabad   \n",
       "08/02/2019  India/Singapore   \n",
       "14/09/2015        Bangalore   \n",
       "03/09/2018        Bengaluru   \n",
       "19/11/2019            Delhi   \n",
       "15/02/2016        New Delhi   \n",
       "03/03/2017        Bangalore   \n",
       "21/11/2017           Mumbai   \n",
       "19/11/2019         Tulangan   \n",
       "25/06/2018         Gurugram   \n",
       "01/02/2018         Gurugram   \n",
       "09/01/2020        Bengaluru   \n",
       "07/01/2016          Gurgaon   \n",
       "16/08/2016        New Delhi   \n",
       "05/09/2018           Mumbai   \n",
       "22/03/2016        Bangalore   \n",
       "01/05/2019        Bengaluru   \n",
       "10/07/2019        Bengaluru   \n",
       "07/04/2015           Mumbai   \n",
       "\n",
       "                                               Investors Name  \\\n",
       "Date                                                            \n",
       "27/08/2019                                 Westbridge Capital   \n",
       "11/08/2017                                           Softbank   \n",
       "18/05/2017                                     SoftBank Group   \n",
       "21/03/2017                  Microsoft, eBay, Tencent Holdings   \n",
       "25/11/2019                               Vijay Shekhar Sharma   \n",
       "28/07/2015           Steadview Capital and existing investors   \n",
       "29/09/2015                       Alibaba Group, Ant Financial   \n",
       "30/08/2018                                                NaN   \n",
       "02/10/2019                      Altimeter Capital, DST Global   \n",
       "01/08/2015                         Alibaba, Foxconn, Softbank   \n",
       "18/11/2015  Baillie Gifford, Falcon Edge Capital, Tiger Gl...   \n",
       "04/09/2019             Bennett Coleman and Company Ltd (BCCL)   \n",
       "08/04/2015  DST Global, Steadview Capital, Tiger Global, A...   \n",
       "01/03/2017                                SoftBank Group Corp   \n",
       "19/11/2018                               SoftBank Vision Fund   \n",
       "01/02/2018  Alibaba, Helion Venture Partners, Bessemer Ven...   \n",
       "15/11/2019  Matrix Partners, Stellaris Venture Partners, K...   \n",
       "27/11/2017                              Undisclosed investors   \n",
       "14/04/2017                                   SIMI Pacific Pte   \n",
       "24/04/2017  SoftBank Vision Fund, Lightspeed Venture Partn...   \n",
       "07/09/2017  SoftBank Group, Sequoia Capital India, Lightsp...   \n",
       "20/12/2019                               SoftBank Vision Fund   \n",
       "08/02/2019  Sequoia Capital and Temasek Holdings, EDBI, Bu...   \n",
       "14/09/2015  Falcon Edge Capital, NY based Hedge Fund, Tige...   \n",
       "03/09/2018  DST Global and Lightspeed Venture Partners\\\\xe...   \n",
       "19/11/2019                               Amour Infrastructure   \n",
       "15/02/2016  Ontario Teachers\\\\xe2\\\\x80\\\\x99 Pension Plan &...   \n",
       "03/03/2017                                            Alibaba   \n",
       "21/11/2017                     Global Institutional Investors   \n",
       "19/11/2019                 IAN Fund and DSG Consumer Partners   \n",
       "25/06/2018       SoftBank Vision Fund & Info Edge (India) Ltd   \n",
       "01/02/2018                                     Ant Financials   \n",
       "09/01/2020                            Tiger Global Management   \n",
       "07/01/2016                        Ctrip.com International Ltd   \n",
       "16/08/2016  Tencent Holdings, Foxconn Technology Group, Ti...   \n",
       "05/09/2018                                         Lighthouse   \n",
       "22/03/2016                                       Abraaj Group   \n",
       "01/05/2019  Goldman Sachs Investment Partners and Silicon ...   \n",
       "10/07/2019                         Qatar Investment Authority   \n",
       "07/04/2015  Tiger Global, Investment AB Kinnevik, Steadvie...   \n",
       "\n",
       "                 InvestmentnType        Amount  \n",
       "Date                                            \n",
       "27/08/2019              Series B  3.900000e+09  \n",
       "11/08/2017        Private Equity  2.500000e+09  \n",
       "18/05/2017        Private Equity  1.400000e+09  \n",
       "21/03/2017        Private Equity  1.400000e+09  \n",
       "25/11/2019         Funding Round  1.000000e+09  \n",
       "28/07/2015        Private Equity  7.000000e+08  \n",
       "29/09/2015        Private Equity  6.800000e+08  \n",
       "30/08/2018        Private Equity  6.000000e+08  \n",
       "02/10/2019              Series D  5.850000e+08  \n",
       "01/08/2015        Private Equity  5.000000e+08  \n",
       "18/11/2015        Private Equity  5.000000e+08  \n",
       "04/09/2019              Series C  4.500000e+08  \n",
       "08/04/2015        Private Equity  4.000000e+08  \n",
       "01/03/2017        Private Equity  3.300000e+08  \n",
       "19/11/2018              Series B  3.000000e+08  \n",
       "01/02/2018        Private Equity  3.000000e+08  \n",
       "15/11/2019              Series B  2.830000e+08  \n",
       "27/11/2017        Private Equity  2.700000e+08  \n",
       "14/04/2017        Private Equity  2.600000e+08  \n",
       "24/04/2017        Private Equity  2.500000e+08  \n",
       "07/09/2017        Private Equity  2.500000e+08  \n",
       "20/12/2019              Series G  2.310000e+08  \n",
       "08/02/2019              Series D  2.260000e+08  \n",
       "14/09/2015        Private Equity  2.250000e+08  \n",
       "03/09/2018        Private Equity  2.250000e+08  \n",
       "19/11/2019          Seed Funding  2.200000e+08  \n",
       "15/02/2016        Private Equity  2.000000e+08  \n",
       "03/03/2017        Private Equity  2.000000e+08  \n",
       "21/11/2017        Private Equity  2.000000e+08  \n",
       "19/11/2019                   NaN  2.000000e+08  \n",
       "25/06/2018        Private Equity  2.000000e+08  \n",
       "01/02/2018        Private Equity  2.000000e+08  \n",
       "09/01/2020  Private Equity Round  2.000000e+08  \n",
       "07/01/2016        Private Equity  1.800000e+08  \n",
       "16/08/2016        Private Equity  1.750000e+08  \n",
       "05/09/2018        Private Equity  1.572000e+08  \n",
       "22/03/2016        Private Equity  1.500000e+08  \n",
       "01/05/2019              Series D  1.500000e+08  \n",
       "10/07/2019  Private Equity Round  1.500000e+08  \n",
       "07/04/2015        Private Equity  1.500000e+08  "
      ],
      "text/html": "<div>\n<style scoped>\n    .dataframe tbody tr th:only-of-type {\n        vertical-align: middle;\n    }\n\n    .dataframe tbody tr th {\n        vertical-align: top;\n    }\n\n    .dataframe thead th {\n        text-align: right;\n    }\n</style>\n<table border=\"1\" class=\"dataframe\">\n  <thead>\n    <tr style=\"text-align: right;\">\n      <th></th>\n      <th>Name</th>\n      <th>Industry Vertical</th>\n      <th>SubVertical</th>\n      <th>City  Location</th>\n      <th>Investors Name</th>\n      <th>InvestmentnType</th>\n      <th>Amount</th>\n    </tr>\n    <tr>\n      <th>Date</th>\n      <th></th>\n      <th></th>\n      <th></th>\n      <th></th>\n      <th></th>\n      <th></th>\n      <th></th>\n    </tr>\n  </thead>\n  <tbody>\n    <tr>\n      <th>27/08/2019</th>\n      <td>Rapido Bike Taxi</td>\n      <td>Transportation</td>\n      <td>Bike Taxi</td>\n      <td>Bengaluru</td>\n      <td>Westbridge Capital</td>\n      <td>Series B</td>\n      <td>3.900000e+09</td>\n    </tr>\n    <tr>\n      <th>11/08/2017</th>\n      <td>Flipkart</td>\n      <td>eCommerce</td>\n      <td>Online Marketplace</td>\n      <td>Bangalore</td>\n      <td>Softbank</td>\n      <td>Private Equity</td>\n      <td>2.500000e+09</td>\n    </tr>\n    <tr>\n      <th>18/05/2017</th>\n      <td>Paytm</td>\n      <td>ECommerce</td>\n      <td>Mobile Wallet &amp; ECommerce platform</td>\n      <td>Bangalore</td>\n      <td>SoftBank Group</td>\n      <td>Private Equity</td>\n      <td>1.400000e+09</td>\n    </tr>\n    <tr>\n      <th>21/03/2017</th>\n      <td>Flipkart</td>\n      <td>eCommerce</td>\n      <td>ECommerce Marketplace</td>\n      <td>Bangalore</td>\n      <td>Microsoft, eBay, Tencent Holdings</td>\n      <td>Private Equity</td>\n      <td>1.400000e+09</td>\n    </tr>\n    <tr>\n      <th>25/11/2019</th>\n      <td>Paytm</td>\n      <td>FinTech</td>\n      <td>Mobile Wallet</td>\n      <td>Noida</td>\n      <td>Vijay Shekhar Sharma</td>\n      <td>Funding Round</td>\n      <td>1.000000e+09</td>\n    </tr>\n    <tr>\n      <th>28/07/2015</th>\n      <td>Flipkart.com</td>\n      <td>Online Marketplace</td>\n      <td>NaN</td>\n      <td>Bangalore</td>\n      <td>Steadview Capital and existing investors</td>\n      <td>Private Equity</td>\n      <td>7.000000e+08</td>\n    </tr>\n    <tr>\n      <th>29/09/2015</th>\n      <td>Paytm</td>\n      <td>E-Commerce &amp; M-Commerce platform</td>\n      <td>NaN</td>\n      <td>New Delhi</td>\n      <td>Alibaba Group, Ant Financial</td>\n      <td>Private Equity</td>\n      <td>6.800000e+08</td>\n    </tr>\n    <tr>\n      <th>30/08/2018</th>\n      <td>True North</td>\n      <td>Finance</td>\n      <td>Private Equity Firm</td>\n      <td>Mumbai</td>\n      <td>NaN</td>\n      <td>Private Equity</td>\n      <td>6.000000e+08</td>\n    </tr>\n    <tr>\n      <th>02/10/2019</th>\n      <td>Udaan</td>\n      <td>B2B</td>\n      <td>Business development</td>\n      <td>Bengaluru</td>\n      <td>Altimeter Capital, DST Global</td>\n      <td>Series D</td>\n      <td>5.850000e+08</td>\n    </tr>\n    <tr>\n      <th>01/08/2015</th>\n      <td>Snapdeal</td>\n      <td>Ecommerce Marketplace</td>\n      <td>NaN</td>\n      <td>New Delhi</td>\n      <td>Alibaba, Foxconn, Softbank</td>\n      <td>Private Equity</td>\n      <td>5.000000e+08</td>\n    </tr>\n    <tr>\n      <th>18/11/2015</th>\n      <td>Ola</td>\n      <td>Car Aggregator &amp; Retail Mobile App</td>\n      <td>NaN</td>\n      <td>Bangalore</td>\n      <td>Baillie Gifford, Falcon Edge Capital, Tiger Gl...</td>\n      <td>Private Equity</td>\n      <td>5.000000e+08</td>\n    </tr>\n    <tr>\n      <th>04/09/2019</th>\n      <td>GOQii</td>\n      <td>Health and Wellness</td>\n      <td>Wearable Fitness Bands</td>\n      <td>Menlo Park</td>\n      <td>Bennett Coleman and Company Ltd (BCCL)</td>\n      <td>Series C</td>\n      <td>4.500000e+08</td>\n    </tr>\n    <tr>\n      <th>08/04/2015</th>\n      <td>Olacabs</td>\n      <td>Cab Aggregator</td>\n      <td>NaN</td>\n      <td>Bangalore</td>\n      <td>DST Global, Steadview Capital, Tiger Global, A...</td>\n      <td>Private Equity</td>\n      <td>4.000000e+08</td>\n    </tr>\n    <tr>\n      <th>01/03/2017</th>\n      <td>Ola</td>\n      <td>Consumer Internet</td>\n      <td>App based cab aggregator</td>\n      <td>Bangalore</td>\n      <td>SoftBank Group Corp</td>\n      <td>Private Equity</td>\n      <td>3.300000e+08</td>\n    </tr>\n    <tr>\n      <th>19/11/2018</th>\n      <td>Automation Anywhere</td>\n      <td>Automation</td>\n      <td>Robotics</td>\n      <td>California</td>\n      <td>SoftBank Vision Fund</td>\n      <td>Series B</td>\n      <td>3.000000e+08</td>\n    </tr>\n    <tr>\n      <th>01/02/2018</th>\n      <td>BigBasket</td>\n      <td>Consumer Internet</td>\n      <td>Online Grocery &amp; Food Store</td>\n      <td>Bengaluru</td>\n      <td>Alibaba, Helion Venture Partners, Bessemer Ven...</td>\n      <td>Private Equity</td>\n      <td>3.000000e+08</td>\n    </tr>\n    <tr>\n      <th>15/11/2019</th>\n      <td>Vogo Automotive</td>\n      <td>Last Mile Transportation</td>\n      <td>Scooter sharing app</td>\n      <td>Kormangala</td>\n      <td>Matrix Partners, Stellaris Venture Partners, K...</td>\n      <td>Series B</td>\n      <td>2.830000e+08</td>\n    </tr>\n    <tr>\n      <th>27/11/2017</th>\n      <td>Edelweiss</td>\n      <td>Finance</td>\n      <td>Diversified Financial</td>\n      <td>Mumbai</td>\n      <td>Undisclosed investors</td>\n      <td>Private Equity</td>\n      <td>2.700000e+08</td>\n    </tr>\n    <tr>\n      <th>14/04/2017</th>\n      <td>Ola Cabs</td>\n      <td>Consumer Internet</td>\n      <td>Cab Aggregator App</td>\n      <td>Bangalore</td>\n      <td>SIMI Pacific Pte</td>\n      <td>Private Equity</td>\n      <td>2.600000e+08</td>\n    </tr>\n    <tr>\n      <th>24/04/2017</th>\n      <td>Oyo Rooms</td>\n      <td>Consumer Internet</td>\n      <td>Branded Budget Hotels Aggregator</td>\n      <td>Gurgaon</td>\n      <td>SoftBank Vision Fund, Lightspeed Venture Partn...</td>\n      <td>Private Equity</td>\n      <td>2.500000e+08</td>\n    </tr>\n    <tr>\n      <th>07/09/2017</th>\n      <td>OYO Rooms</td>\n      <td>Consumer Internet</td>\n      <td>Branded budget hotels marketplace</td>\n      <td>Gurgaon</td>\n      <td>SoftBank Group, Sequoia Capital India, Lightsp...</td>\n      <td>Private Equity</td>\n      <td>2.500000e+08</td>\n    </tr>\n    <tr>\n      <th>20/12/2019</th>\n      <td>Lenskart.com</td>\n      <td>E-Commerce</td>\n      <td>Online Eyewear Shopping Portal</td>\n      <td>Faridabad</td>\n      <td>SoftBank Vision Fund</td>\n      <td>Series G</td>\n      <td>2.310000e+08</td>\n    </tr>\n    <tr>\n      <th>08/02/2019</th>\n      <td>Zilingo</td>\n      <td>Ecommerce</td>\n      <td>Fashion &amp; Apparel</td>\n      <td>India/Singapore</td>\n      <td>Sequoia Capital and Temasek Holdings, EDBI, Bu...</td>\n      <td>Series D</td>\n      <td>2.260000e+08</td>\n    </tr>\n    <tr>\n      <th>14/09/2015</th>\n      <td>Ola Cabs</td>\n      <td>Cab rental Mobile app</td>\n      <td>NaN</td>\n      <td>Bangalore</td>\n      <td>Falcon Edge Capital, NY based Hedge Fund, Tige...</td>\n      <td>Private Equity</td>\n      <td>2.250000e+08</td>\n    </tr>\n    <tr>\n      <th>03/09/2018</th>\n      <td>Udaan</td>\n      <td>B2B Platform</td>\n      <td>Logistics and Shipping</td>\n      <td>Bengaluru</td>\n      <td>DST Global and Lightspeed Venture Partners\\\\xe...</td>\n      <td>Private Equity</td>\n      <td>2.250000e+08</td>\n    </tr>\n    <tr>\n      <th>19/11/2019</th>\n      <td>Digital Mall Asia</td>\n      <td>E-Commerce</td>\n      <td>Virtual e-commerce platform</td>\n      <td>Delhi</td>\n      <td>Amour Infrastructure</td>\n      <td>Seed Funding</td>\n      <td>2.200000e+08</td>\n    </tr>\n    <tr>\n      <th>15/02/2016</th>\n      <td>Snapdeal</td>\n      <td>eCommerce</td>\n      <td>Horizontal Online Marketplace</td>\n      <td>New Delhi</td>\n      <td>Ontario Teachers\\\\xe2\\\\x80\\\\x99 Pension Plan &amp;...</td>\n      <td>Private Equity</td>\n      <td>2.000000e+08</td>\n    </tr>\n    <tr>\n      <th>03/03/2017</th>\n      <td>Paytm Marketplace</td>\n      <td>ECommerce</td>\n      <td>ECommerce Marketplace</td>\n      <td>Bangalore</td>\n      <td>Alibaba</td>\n      <td>Private Equity</td>\n      <td>2.000000e+08</td>\n    </tr>\n    <tr>\n      <th>21/11/2017</th>\n      <td>Epiq Capital</td>\n      <td>Finance</td>\n      <td>Tech based investor firm</td>\n      <td>Mumbai</td>\n      <td>Global Institutional Investors</td>\n      <td>Private Equity</td>\n      <td>2.000000e+08</td>\n    </tr>\n    <tr>\n      <th>19/11/2019</th>\n      <td>Furtados School of Music</td>\n      <td>Education</td>\n      <td>Music Education</td>\n      <td>Tulangan</td>\n      <td>IAN Fund and DSG Consumer Partners</td>\n      <td>NaN</td>\n      <td>2.000000e+08</td>\n    </tr>\n    <tr>\n      <th>25/06/2018</th>\n      <td>PolicyBazaar</td>\n      <td>Consumer Internet</td>\n      <td>Online Insurance Selling Platform</td>\n      <td>Gurugram</td>\n      <td>SoftBank Vision Fund &amp; Info Edge (India) Ltd</td>\n      <td>Private Equity</td>\n      <td>2.000000e+08</td>\n    </tr>\n    <tr>\n      <th>01/02/2018</th>\n      <td>Zomato</td>\n      <td>Food and Beverages</td>\n      <td>Food Ordering and Restaurant Discovery</td>\n      <td>Gurugram</td>\n      <td>Ant Financials</td>\n      <td>Private Equity</td>\n      <td>2.000000e+08</td>\n    </tr>\n    <tr>\n      <th>09/01/2020</th>\n      <td>BYJU’S</td>\n      <td>E-Tech</td>\n      <td>E-learning</td>\n      <td>Bengaluru</td>\n      <td>Tiger Global Management</td>\n      <td>Private Equity Round</td>\n      <td>2.000000e+08</td>\n    </tr>\n    <tr>\n      <th>07/01/2016</th>\n      <td>MakeMyTrip</td>\n      <td>Consumer Internet</td>\n      <td>Online Travel/Hotel Booking platform</td>\n      <td>Gurgaon</td>\n      <td>Ctrip.com International Ltd</td>\n      <td>Private Equity</td>\n      <td>1.800000e+08</td>\n    </tr>\n    <tr>\n      <th>16/08/2016</th>\n      <td>Hike</td>\n      <td>Consumer Internet</td>\n      <td>Mobile Messaging App</td>\n      <td>New Delhi</td>\n      <td>Tencent Holdings, Foxconn Technology Group, Ti...</td>\n      <td>Private Equity</td>\n      <td>1.750000e+08</td>\n    </tr>\n    <tr>\n      <th>05/09/2018</th>\n      <td>Nykaa</td>\n      <td>Consumer Internet</td>\n      <td>Online Marketplace For Multi-brand Beauty Cosm...</td>\n      <td>Mumbai</td>\n      <td>Lighthouse</td>\n      <td>Private Equity</td>\n      <td>1.572000e+08</td>\n    </tr>\n    <tr>\n      <th>22/03/2016</th>\n      <td>BigBasket</td>\n      <td>eCommerce</td>\n      <td>Online Grocery Shop</td>\n      <td>Bangalore</td>\n      <td>Abraaj Group</td>\n      <td>Private Equity</td>\n      <td>1.500000e+08</td>\n    </tr>\n    <tr>\n      <th>01/05/2019</th>\n      <td>BlackBuck</td>\n      <td>Transport</td>\n      <td>Logistics</td>\n      <td>Bengaluru</td>\n      <td>Goldman Sachs Investment Partners and Silicon ...</td>\n      <td>Series D</td>\n      <td>1.500000e+08</td>\n    </tr>\n    <tr>\n      <th>10/07/2019</th>\n      <td>\"BYJU\\\\'S\"</td>\n      <td>EdTech</td>\n      <td>Education</td>\n      <td>Bengaluru</td>\n      <td>Qatar Investment Authority</td>\n      <td>Private Equity Round</td>\n      <td>1.500000e+08</td>\n    </tr>\n    <tr>\n      <th>07/04/2015</th>\n      <td>Quikr</td>\n      <td>Online Classifieds</td>\n      <td>NaN</td>\n      <td>Mumbai</td>\n      <td>Tiger Global, Investment AB Kinnevik, Steadvie...</td>\n      <td>Private Equity</td>\n      <td>1.500000e+08</td>\n    </tr>\n  </tbody>\n</table>\n</div>"
     },
     "metadata": {},
     "execution_count": 85
    }
   ],
   "source": [
    "df.sort_values('Amount', ascending=False).head(40)"
   ]
  },
  {
   "cell_type": "code",
   "execution_count": null,
   "metadata": {},
   "outputs": [],
   "source": []
  }
 ]
}